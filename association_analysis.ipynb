{
 "cells": [
  {
   "cell_type": "code",
   "execution_count": 2,
   "id": "fe68804c-91cc-4245-a627-cb0e51d8b88e",
   "metadata": {},
   "outputs": [],
   "source": [
    "import pandas as pd"
   ]
  },
  {
   "cell_type": "code",
   "execution_count": 3,
   "id": "a7c9c493-1e06-4a2e-9b6b-4378d8d0fba6",
   "metadata": {},
   "outputs": [],
   "source": [
    "import numpy as np\n",
    "import itertools\n",
    "import re\n",
    "import ordered_set\n",
    "from ordered_set import OrderedSet"
   ]
  },
  {
   "cell_type": "code",
   "execution_count": 4,
   "id": "54064a63-5619-41d5-bc0a-0a7007a03f5c",
   "metadata": {},
   "outputs": [],
   "source": [
    "class itemset:\n",
    "    def __init__(self, items, support):\n",
    "        self.items = items\n",
    "        self.support = support\n",
    "        \n",
    "    def to_string(self):\n",
    "        return \"Items:\" + str(self.items) + \"\\n Support:\" + str(self.support)\n"
   ]
  },
  {
   "cell_type": "code",
   "execution_count": 434,
   "id": "2a6424b6-f2de-4fc2-a933-1212a893ed35",
   "metadata": {},
   "outputs": [],
   "source": [
    "class Rules:\n",
    "    def __init__(self, x, y):\n",
    "        self.x=x\n",
    "        self.y=y\n",
    "    \n",
    "    def support_count(self, l):\n",
    "        ls=[]\n",
    "        for se in sorted(l):\n",
    "            f_df = df[se]\n",
    "            if(isinstance(f_df, pd.Series)):\n",
    "                ls.append(itemset(OrderedSet([se]), sum(f_df)))\n",
    "            else:\n",
    "                ls.append(itemset(se, sum(f_df.all(axis=1))))\n",
    "        return ls\n",
    "        \n",
    "    def confidence_x(self):\n",
    "        \n",
    "        xs=(self.x[0])\n",
    "        ys=(self.y[0])\n",
    "        return (self.support_count([xs | ys])[0].support) /(self.support_count(self.x)[0].support)\n",
    "    \n",
    "    def confidence_y(self):\n",
    "        \n",
    "        xs=(self.x[0])\n",
    "        ys=(self.y[0])\n",
    "        return (self.support_count([xs | ys])[0].support) /(self.support_count(self.y)[0].support)"
   ]
  },
  {
   "cell_type": "code",
   "execution_count": 435,
   "id": "d2df29fc-4fea-428a-bdbd-6805aa75c056",
   "metadata": {},
   "outputs": [],
   "source": [
    "data = {\"customer_id\": [1,1,2,2,3,3,4,4,5], \"transaction_id\": [1,2,3,4,5,6,7,8,9], \n",
    "        \"items\": [[\"Milk\", \"Bread\", \"Butter\"], [\"Bread\", \"Cheese\"], [\"Bread\", \"Jam\"],\n",
    "                  [\"Milk\", \"Bread\", \"Cheese\"], [\"Milk\", \"Jam\"], [\"Bread\", \"Jam\"], [\"Milk\", \"Jam\"], \n",
    "                  [\"Milk\", \"Bread\", \"Jam\", \"Butter\"], [\"Milk\", \"Bread\", \"Jam\"]]}\n",
    "        "
   ]
  },
  {
   "cell_type": "code",
   "execution_count": 436,
   "id": "f29ce1d4-acd0-4308-8882-c2dc16f1382e",
   "metadata": {},
   "outputs": [],
   "source": [
    "df=pd.DataFrame(data)"
   ]
  },
  {
   "cell_type": "code",
   "execution_count": 437,
   "id": "0f04086d-3e28-48af-95b6-ddd5193b9eed",
   "metadata": {},
   "outputs": [
    {
     "data": {
      "text/html": [
       "<div>\n",
       "<style scoped>\n",
       "    .dataframe tbody tr th:only-of-type {\n",
       "        vertical-align: middle;\n",
       "    }\n",
       "\n",
       "    .dataframe tbody tr th {\n",
       "        vertical-align: top;\n",
       "    }\n",
       "\n",
       "    .dataframe thead th {\n",
       "        text-align: right;\n",
       "    }\n",
       "</style>\n",
       "<table border=\"1\" class=\"dataframe\">\n",
       "  <thead>\n",
       "    <tr style=\"text-align: right;\">\n",
       "      <th></th>\n",
       "      <th>customer_id</th>\n",
       "      <th>transaction_id</th>\n",
       "      <th>items</th>\n",
       "    </tr>\n",
       "  </thead>\n",
       "  <tbody>\n",
       "    <tr>\n",
       "      <th>0</th>\n",
       "      <td>1</td>\n",
       "      <td>1</td>\n",
       "      <td>[Milk, Bread, Butter]</td>\n",
       "    </tr>\n",
       "    <tr>\n",
       "      <th>1</th>\n",
       "      <td>1</td>\n",
       "      <td>2</td>\n",
       "      <td>[Bread, Cheese]</td>\n",
       "    </tr>\n",
       "    <tr>\n",
       "      <th>2</th>\n",
       "      <td>2</td>\n",
       "      <td>3</td>\n",
       "      <td>[Bread, Jam]</td>\n",
       "    </tr>\n",
       "    <tr>\n",
       "      <th>3</th>\n",
       "      <td>2</td>\n",
       "      <td>4</td>\n",
       "      <td>[Milk, Bread, Cheese]</td>\n",
       "    </tr>\n",
       "    <tr>\n",
       "      <th>4</th>\n",
       "      <td>3</td>\n",
       "      <td>5</td>\n",
       "      <td>[Milk, Jam]</td>\n",
       "    </tr>\n",
       "    <tr>\n",
       "      <th>5</th>\n",
       "      <td>3</td>\n",
       "      <td>6</td>\n",
       "      <td>[Bread, Jam]</td>\n",
       "    </tr>\n",
       "    <tr>\n",
       "      <th>6</th>\n",
       "      <td>4</td>\n",
       "      <td>7</td>\n",
       "      <td>[Milk, Jam]</td>\n",
       "    </tr>\n",
       "    <tr>\n",
       "      <th>7</th>\n",
       "      <td>4</td>\n",
       "      <td>8</td>\n",
       "      <td>[Milk, Bread, Jam, Butter]</td>\n",
       "    </tr>\n",
       "    <tr>\n",
       "      <th>8</th>\n",
       "      <td>5</td>\n",
       "      <td>9</td>\n",
       "      <td>[Milk, Bread, Jam]</td>\n",
       "    </tr>\n",
       "  </tbody>\n",
       "</table>\n",
       "</div>"
      ],
      "text/plain": [
       "   customer_id  transaction_id                       items\n",
       "0            1               1       [Milk, Bread, Butter]\n",
       "1            1               2             [Bread, Cheese]\n",
       "2            2               3                [Bread, Jam]\n",
       "3            2               4       [Milk, Bread, Cheese]\n",
       "4            3               5                 [Milk, Jam]\n",
       "5            3               6                [Bread, Jam]\n",
       "6            4               7                 [Milk, Jam]\n",
       "7            4               8  [Milk, Bread, Jam, Butter]\n",
       "8            5               9          [Milk, Bread, Jam]"
      ]
     },
     "execution_count": 437,
     "metadata": {},
     "output_type": "execute_result"
    }
   ],
   "source": [
    "df"
   ]
  },
  {
   "cell_type": "code",
   "execution_count": 438,
   "id": "175c1803-6fab-47f0-a436-137a4e9a9c6b",
   "metadata": {},
   "outputs": [],
   "source": [
    "#Index - pass lis\n",
    "df = df[['transaction_id', 'items']]"
   ]
  },
  {
   "cell_type": "code",
   "execution_count": 439,
   "id": "6b756145-0b46-46b4-947d-8371349e0327",
   "metadata": {},
   "outputs": [],
   "source": [
    "for idx, row in df.iterrows():\n",
    "    for item in row['items']:\n",
    "        df.loc[idx, item] = True"
   ]
  },
  {
   "cell_type": "code",
   "execution_count": 440,
   "id": "55e704a5-cadc-45c5-a892-305c9fd299e1",
   "metadata": {},
   "outputs": [],
   "source": [
    "df.fillna(False, inplace=True)"
   ]
  },
  {
   "cell_type": "code",
   "execution_count": 441,
   "id": "9b238005-a1f4-4c43-8f75-1e9d9011a4da",
   "metadata": {},
   "outputs": [],
   "source": [
    "df.drop('items', axis=1, inplace=True)\n",
    "df.set_index(['transaction_id'], inplace=True)"
   ]
  },
  {
   "cell_type": "code",
   "execution_count": 442,
   "id": "f19b16a9-57cd-4d97-9c92-0e2f42a4cc8f",
   "metadata": {},
   "outputs": [
    {
     "data": {
      "text/html": [
       "<div>\n",
       "<style scoped>\n",
       "    .dataframe tbody tr th:only-of-type {\n",
       "        vertical-align: middle;\n",
       "    }\n",
       "\n",
       "    .dataframe tbody tr th {\n",
       "        vertical-align: top;\n",
       "    }\n",
       "\n",
       "    .dataframe thead th {\n",
       "        text-align: right;\n",
       "    }\n",
       "</style>\n",
       "<table border=\"1\" class=\"dataframe\">\n",
       "  <thead>\n",
       "    <tr style=\"text-align: right;\">\n",
       "      <th></th>\n",
       "      <th>Milk</th>\n",
       "      <th>Bread</th>\n",
       "      <th>Butter</th>\n",
       "      <th>Cheese</th>\n",
       "      <th>Jam</th>\n",
       "    </tr>\n",
       "    <tr>\n",
       "      <th>transaction_id</th>\n",
       "      <th></th>\n",
       "      <th></th>\n",
       "      <th></th>\n",
       "      <th></th>\n",
       "      <th></th>\n",
       "    </tr>\n",
       "  </thead>\n",
       "  <tbody>\n",
       "    <tr>\n",
       "      <th>1</th>\n",
       "      <td>True</td>\n",
       "      <td>True</td>\n",
       "      <td>True</td>\n",
       "      <td>False</td>\n",
       "      <td>False</td>\n",
       "    </tr>\n",
       "    <tr>\n",
       "      <th>2</th>\n",
       "      <td>False</td>\n",
       "      <td>True</td>\n",
       "      <td>False</td>\n",
       "      <td>True</td>\n",
       "      <td>False</td>\n",
       "    </tr>\n",
       "    <tr>\n",
       "      <th>3</th>\n",
       "      <td>False</td>\n",
       "      <td>True</td>\n",
       "      <td>False</td>\n",
       "      <td>False</td>\n",
       "      <td>True</td>\n",
       "    </tr>\n",
       "    <tr>\n",
       "      <th>4</th>\n",
       "      <td>True</td>\n",
       "      <td>True</td>\n",
       "      <td>False</td>\n",
       "      <td>True</td>\n",
       "      <td>False</td>\n",
       "    </tr>\n",
       "    <tr>\n",
       "      <th>5</th>\n",
       "      <td>True</td>\n",
       "      <td>False</td>\n",
       "      <td>False</td>\n",
       "      <td>False</td>\n",
       "      <td>True</td>\n",
       "    </tr>\n",
       "    <tr>\n",
       "      <th>6</th>\n",
       "      <td>False</td>\n",
       "      <td>True</td>\n",
       "      <td>False</td>\n",
       "      <td>False</td>\n",
       "      <td>True</td>\n",
       "    </tr>\n",
       "    <tr>\n",
       "      <th>7</th>\n",
       "      <td>True</td>\n",
       "      <td>False</td>\n",
       "      <td>False</td>\n",
       "      <td>False</td>\n",
       "      <td>True</td>\n",
       "    </tr>\n",
       "    <tr>\n",
       "      <th>8</th>\n",
       "      <td>True</td>\n",
       "      <td>True</td>\n",
       "      <td>True</td>\n",
       "      <td>False</td>\n",
       "      <td>True</td>\n",
       "    </tr>\n",
       "    <tr>\n",
       "      <th>9</th>\n",
       "      <td>True</td>\n",
       "      <td>True</td>\n",
       "      <td>False</td>\n",
       "      <td>False</td>\n",
       "      <td>True</td>\n",
       "    </tr>\n",
       "  </tbody>\n",
       "</table>\n",
       "</div>"
      ],
      "text/plain": [
       "                 Milk  Bread  Butter  Cheese    Jam\n",
       "transaction_id                                     \n",
       "1                True   True    True   False  False\n",
       "2               False   True   False    True  False\n",
       "3               False   True   False   False   True\n",
       "4                True   True   False    True  False\n",
       "5                True  False   False   False   True\n",
       "6               False   True   False   False   True\n",
       "7                True  False   False   False   True\n",
       "8                True   True    True   False   True\n",
       "9                True   True   False   False   True"
      ]
     },
     "execution_count": 442,
     "metadata": {},
     "output_type": "execute_result"
    }
   ],
   "source": [
    "df"
   ]
  },
  {
   "cell_type": "code",
   "execution_count": 443,
   "id": "8ba054e5-b5b3-4d35-a6d8-7291f148a5ac",
   "metadata": {},
   "outputs": [],
   "source": [
    "class Apriori:\n",
    "    \n",
    "    def __init__(self, df):\n",
    "        self.df = df\n",
    "        \n",
    "    def support_count(self, l):\n",
    "        ls=[]\n",
    "        for se in sorted(l):\n",
    "            f_df = df[se]\n",
    "            if(isinstance(f_df, pd.Series)):\n",
    "                ls.append(itemset(OrderedSet([se]), sum(f_df)))\n",
    "            else:\n",
    "                ls.append(itemset(se, sum(f_df.all(axis=1))))\n",
    "        return ls\n",
    "    \n",
    "    def create_k_set(self,iters, k):\n",
    "        ls = []\n",
    "        for i in range(len(iters)):\n",
    "            for j in range(len(iters) -1) :\n",
    "                s1 = iters[i].items\n",
    "                s2 = iters[j+1].items\n",
    "                if (s1[0:k-2] == s2[0:k-2]) and (len(s1) ==  len(s2)):\n",
    "                    s = s1 | s2\n",
    "                    s = sorted(s)\n",
    "                    s = OrderedSet(s)\n",
    "                    if s not in ls and(s1 != s2):\n",
    "                        ls.append(s)\n",
    "        return ls\n",
    "    \n",
    "    def filter_minsup(self, ls, minsup):\n",
    "        new_ls = []\n",
    "        stop_algo = True\n",
    "        for items in ls:\n",
    "            if(items.support >= minsup):\n",
    "                new_ls.append(items)\n",
    "                if items.support != minsup:\n",
    "                    stop_algo = False\n",
    "        return new_ls, stop_algo\n",
    "    \n",
    "    def create_x(self, k2, i):     \n",
    "        xs = {}\n",
    "        idx =0 \n",
    "        while(i> 1):\n",
    "            for xa in k2:\n",
    "                if i > 1:\n",
    "                    xs[idx] = list(itertools.combinations(xa.items, i))\n",
    "                    idx+=1\n",
    "            i-=1\n",
    "        return xs\n",
    "    \n",
    "    def create_y(self, k2, xs):\n",
    "        ys = {}\n",
    "        for idx, itemx in xs.items():\n",
    "            temp_y = []\n",
    "            all_items= set(list(itertools.chain(*itemx)))\n",
    "            for yi in range(len(itemx)):\n",
    "                \n",
    "                y = OrderedSet(itemx[yi]).symmetric_difference(all_items)\n",
    "                print(y)\n",
    "                temp_y.append(y)\n",
    "            ys[idx] = temp_y\n",
    "        return ys\n",
    "        \n",
    "    def create_rules(self, k2, k):\n",
    "        xs = self.create_x(k2, k)\n",
    "        ys = self.create_y(k2, xs)\n",
    "        \n",
    "        rs = []\n",
    "        for idx, item in  xs.items():\n",
    "            for i in range(len(item)):\n",
    "                yi = ys[idx][i]\n",
    "                xi = item[i]\n",
    "                print(\"yi\",yi)\n",
    "                print(\"xi\", xi)\n",
    "                rs.append(Rules([OrderedSet(xi)], [(yi)]))\n",
    "        \n",
    "        return rs\n",
    "        \n",
    "    \n",
    "    def apriori(self, minssup):\n",
    "        k_set=list(df.columns)\n",
    "        k=2\n",
    "        l_k_set = 0\n",
    "        while True:\n",
    "            ck_set = self.support_count(k_set)\n",
    "            t_k_set, stop_algo = self.filter_minsup(ck_set, minssup)\n",
    "            if stop_algo: break\n",
    "            k_set = self.create_k_set(t_k_set, k)\n",
    "            k+=1\n",
    "            l_k_set+=1\n",
    "        final_k_set = t_k_set if len(t_k_set) > 0 else k_set\n",
    "        return self.create_rules(final_k_set, l_k_set)\n",
    "    \n",
    "    \n",
    "\n",
    "    "
   ]
  },
  {
   "cell_type": "code",
   "execution_count": 444,
   "id": "53f4d3ce-ecc1-4bf1-910d-a2270cc2899c",
   "metadata": {},
   "outputs": [],
   "source": [
    "test = Apriori(df)"
   ]
  },
  {
   "cell_type": "code",
   "execution_count": 450,
   "id": "e34aa0d7-4573-4013-b531-246ea63833ff",
   "metadata": {},
   "outputs": [
    {
     "name": "stdout",
     "output_type": "stream",
     "text": [
      "OrderedSet(['Milk'])\n",
      "OrderedSet(['Jam'])\n",
      "OrderedSet(['Butter'])\n",
      "OrderedSet(['Bread'])\n",
      "OrderedSet(['Milk', 'Jam'])\n",
      "OrderedSet(['Milk', 'Butter'])\n",
      "OrderedSet(['Jam', 'Butter'])\n",
      "OrderedSet(['Bread', 'Milk'])\n",
      "OrderedSet(['Bread', 'Jam'])\n",
      "OrderedSet(['Bread', 'Butter'])\n",
      "yi OrderedSet(['Milk'])\n",
      "xi ('Bread', 'Butter', 'Jam')\n",
      "yi OrderedSet(['Jam'])\n",
      "xi ('Bread', 'Butter', 'Milk')\n",
      "yi OrderedSet(['Butter'])\n",
      "xi ('Bread', 'Jam', 'Milk')\n",
      "yi OrderedSet(['Bread'])\n",
      "xi ('Butter', 'Jam', 'Milk')\n",
      "yi OrderedSet(['Milk', 'Jam'])\n",
      "xi ('Bread', 'Butter')\n",
      "yi OrderedSet(['Milk', 'Butter'])\n",
      "xi ('Bread', 'Jam')\n",
      "yi OrderedSet(['Jam', 'Butter'])\n",
      "xi ('Bread', 'Milk')\n",
      "yi OrderedSet(['Bread', 'Milk'])\n",
      "xi ('Butter', 'Jam')\n",
      "yi OrderedSet(['Bread', 'Jam'])\n",
      "xi ('Butter', 'Milk')\n",
      "yi OrderedSet(['Bread', 'Butter'])\n",
      "xi ('Jam', 'Milk')\n"
     ]
    }
   ],
   "source": [
    "rs =test.apriori(1)"
   ]
  },
  {
   "cell_type": "code",
   "execution_count": null,
   "id": "760c50d9-c160-48af-989c-d8882553850a",
   "metadata": {},
   "outputs": [],
   "source": []
  },
  {
   "cell_type": "code",
   "execution_count": 451,
   "id": "d780f58b-1cd5-4e1b-93f8-a9a69ee00096",
   "metadata": {},
   "outputs": [
    {
     "name": "stdout",
     "output_type": "stream",
     "text": [
      "[OrderedSet(['Milk'])] -> [OrderedSet(['Bread', 'Butter', 'Jam'])]0.16666666666666666\n",
      "[OrderedSet(['Jam'])] -> [OrderedSet(['Bread', 'Butter', 'Milk'])]0.16666666666666666\n",
      "[OrderedSet(['Butter'])] -> [OrderedSet(['Bread', 'Jam', 'Milk'])]0.5\n",
      "[OrderedSet(['Bread'])] -> [OrderedSet(['Butter', 'Jam', 'Milk'])]0.14285714285714285\n",
      "[OrderedSet(['Milk', 'Jam'])] -> [OrderedSet(['Bread', 'Butter'])]0.25\n",
      "[OrderedSet(['Milk', 'Butter'])] -> [OrderedSet(['Bread', 'Jam'])]0.5\n",
      "[OrderedSet(['Jam', 'Butter'])] -> [OrderedSet(['Bread', 'Milk'])]1.0\n",
      "[OrderedSet(['Bread', 'Milk'])] -> [OrderedSet(['Butter', 'Jam'])]0.25\n",
      "[OrderedSet(['Bread', 'Jam'])] -> [OrderedSet(['Butter', 'Milk'])]0.25\n",
      "[OrderedSet(['Bread', 'Butter'])] -> [OrderedSet(['Jam', 'Milk'])]0.5\n",
      "=======\n",
      "[OrderedSet(['Bread', 'Butter', 'Jam'])] -> [OrderedSet(['Milk'])]1.0\n",
      "[OrderedSet(['Bread', 'Butter', 'Milk'])] -> [OrderedSet(['Jam'])]0.5\n",
      "[OrderedSet(['Bread', 'Jam', 'Milk'])] -> [OrderedSet(['Butter'])]0.5\n",
      "[OrderedSet(['Butter', 'Jam', 'Milk'])] -> [OrderedSet(['Bread'])]1.0\n",
      "[OrderedSet(['Bread', 'Butter'])] -> [OrderedSet(['Milk', 'Jam'])]0.5\n",
      "[OrderedSet(['Bread', 'Jam'])] -> [OrderedSet(['Milk', 'Butter'])]0.25\n",
      "[OrderedSet(['Bread', 'Milk'])] -> [OrderedSet(['Jam', 'Butter'])]0.25\n",
      "[OrderedSet(['Butter', 'Jam'])] -> [OrderedSet(['Bread', 'Milk'])]1.0\n",
      "[OrderedSet(['Butter', 'Milk'])] -> [OrderedSet(['Bread', 'Jam'])]0.5\n",
      "[OrderedSet(['Jam', 'Milk'])] -> [OrderedSet(['Bread', 'Butter'])]0.25\n"
     ]
    }
   ],
   "source": [
    "for r in rs:\n",
    "    print(str(r.y) + \" -> \" + str(r.x) + str(r.confidence_y()))\n",
    "print(\"=======\")\n",
    "for r in rs:\n",
    "    print(str(r.x) + \" -> \" + str(r.y) + str(r.confidence_x()))"
   ]
  },
  {
   "cell_type": "code",
   "execution_count": 234,
   "id": "2fdc82ad-dca8-46f3-a29d-961ecd220d60",
   "metadata": {},
   "outputs": [
    {
     "ename": "NameError",
     "evalue": "name 'foo' is not defined",
     "output_type": "error",
     "traceback": [
      "\u001b[0;31m---------------------------------------------------------------------------\u001b[0m",
      "\u001b[0;31mNameError\u001b[0m                                 Traceback (most recent call last)",
      "\u001b[0;32m/tmp/ipykernel_4956/3277354940.py\u001b[0m in \u001b[0;36m<module>\u001b[0;34m\u001b[0m\n\u001b[0;32m----> 1\u001b[0;31m \u001b[0mprint\u001b[0m\u001b[0;34m(\u001b[0m\u001b[0mfoo\u001b[0m\u001b[0;34m(\u001b[0m\u001b[0;34m)\u001b[0m\u001b[0;34m)\u001b[0m\u001b[0;34m\u001b[0m\u001b[0;34m\u001b[0m\u001b[0m\n\u001b[0m",
      "\u001b[0;31mNameError\u001b[0m: name 'foo' is not defined"
     ]
    }
   ],
   "source": [
    "print(foo())"
   ]
  },
  {
   "cell_type": "code",
   "execution_count": 16,
   "id": "3db401bf-1f1d-46e2-be0a-c39936b65a41",
   "metadata": {},
   "outputs": [],
   "source": [
    "initial_set=list(df.columns)"
   ]
  },
  {
   "cell_type": "code",
   "execution_count": 17,
   "id": "59c93f2d-5e53-4bc6-91d7-49e3317a10d5",
   "metadata": {},
   "outputs": [],
   "source": [
    "da= support_count(initial_set)"
   ]
  },
  {
   "cell_type": "code",
   "execution_count": null,
   "id": "6840bd54-4046-4e8c-acad-01d386edd93e",
   "metadata": {},
   "outputs": [],
   "source": [
    "n_s1 = filter_minsup(da, 2)"
   ]
  },
  {
   "cell_type": "code",
   "execution_count": 19,
   "id": "f4e2a830-9068-432f-ba78-acfd392c638c",
   "metadata": {},
   "outputs": [],
   "source": [
    "t=create_k_set(da, 2)"
   ]
  },
  {
   "cell_type": "code",
   "execution_count": 21,
   "id": "90f4fc8e-eeec-44a0-b999-8eb16bc85499",
   "metadata": {},
   "outputs": [],
   "source": [
    "s1 = support_count(t)"
   ]
  },
  {
   "cell_type": "code",
   "execution_count": 23,
   "id": "e347d858-2392-43ee-b602-e0b4b0edee34",
   "metadata": {},
   "outputs": [],
   "source": [
    "n_s1 = filter_minsup(s1, 2)"
   ]
  },
  {
   "cell_type": "code",
   "execution_count": 24,
   "id": "12d75c7a-c48f-4738-ac3b-e52b52076706",
   "metadata": {},
   "outputs": [
    {
     "data": {
      "text/plain": [
       "[<__main__.itemset at 0x7fbb704fafd0>,\n",
       " <__main__.itemset at 0x7fbb704fafa0>,\n",
       " <__main__.itemset at 0x7fbb704fa4c0>,\n",
       " <__main__.itemset at 0x7fbb704faf70>,\n",
       " <__main__.itemset at 0x7fbb704faac0>,\n",
       " <__main__.itemset at 0x7fbb704fad90>]"
      ]
     },
     "execution_count": 24,
     "metadata": {},
     "output_type": "execute_result"
    }
   ],
   "source": [
    "k1=create_k_set(n_s1, 3)"
   ]
  },
  {
   "cell_type": "code",
   "execution_count": 26,
   "id": "46f60876-6f05-4a9b-8d80-d5998cdff95b",
   "metadata": {},
   "outputs": [],
   "source": [
    "k1 = support_count(k1)"
   ]
  },
  {
   "cell_type": "code",
   "execution_count": 66,
   "id": "bfb16831-fc6f-4131-aad5-b7b0423598a3",
   "metadata": {},
   "outputs": [],
   "source": [
    "k2 = filter_minsup(k1, 2)"
   ]
  },
  {
   "cell_type": "code",
   "execution_count": 92,
   "id": "84599435-4ee7-4895-95d1-93f2e861e837",
   "metadata": {},
   "outputs": [
    {
     "data": {
      "text/plain": [
       "OrderedSet(['Bread', 'Butter', 'Milk'])"
      ]
     },
     "execution_count": 92,
     "metadata": {},
     "output_type": "execute_result"
    }
   ],
   "source": [
    "k2[0].items"
   ]
  },
  {
   "cell_type": "code",
   "execution_count": 96,
   "id": "efc67662-bb3f-453f-963b-495889298cb5",
   "metadata": {},
   "outputs": [],
   "source": [
    "test=[itemset(OrderedSet(['Bread', \"Butter\", \"Milk\", \"Jam\"]),0)]"
   ]
  },
  {
   "cell_type": "code",
   "execution_count": 97,
   "id": "1af9fc9a-36b1-4288-9e11-db10cca1c8ad",
   "metadata": {},
   "outputs": [
    {
     "data": {
      "text/plain": [
       "[<__main__.itemset at 0x7fbb6f6b27f0>]"
      ]
     },
     "execution_count": 97,
     "metadata": {},
     "output_type": "execute_result"
    }
   ],
   "source": [
    "test"
   ]
  },
  {
   "cell_type": "code",
   "execution_count": 98,
   "id": "5645c798-1990-4d39-99c1-0eb6e578597d",
   "metadata": {},
   "outputs": [],
   "source": [
    "xs = []\n",
    "i=3\n",
    "while(i> 1):\n",
    "    for xa in test:\n",
    "        if i > 1:\n",
    "            xs.append(list(itertools.combinations(xa.items, i)))\n",
    "    i-=1"
   ]
  },
  {
   "cell_type": "code",
   "execution_count": 99,
   "id": "b5c8dde8-a610-44e1-b821-5c5ede320939",
   "metadata": {},
   "outputs": [
    {
     "data": {
      "text/plain": [
       "[[('Bread', 'Butter', 'Milk'),\n",
       "  ('Bread', 'Butter', 'Jam'),\n",
       "  ('Bread', 'Milk', 'Jam'),\n",
       "  ('Butter', 'Milk', 'Jam')],\n",
       " [('Bread', 'Butter'),\n",
       "  ('Bread', 'Milk'),\n",
       "  ('Bread', 'Jam'),\n",
       "  ('Butter', 'Milk'),\n",
       "  ('Butter', 'Jam'),\n",
       "  ('Milk', 'Jam')]]"
      ]
     },
     "execution_count": 99,
     "metadata": {},
     "output_type": "execute_result"
    }
   ],
   "source": [
    "xs"
   ]
  },
  {
   "cell_type": "code",
   "execution_count": 115,
   "id": "c74ef6a2-04d7-4a29-b7e8-9563f77435b4",
   "metadata": {},
   "outputs": [
    {
     "name": "stdout",
     "output_type": "stream",
     "text": [
      "('Bread', 'Butter', 'Milk')\n",
      "('Bread', 'Butter', 'Jam')\n",
      "('Bread', 'Milk', 'Jam')\n",
      "('Butter', 'Milk', 'Jam')\n",
      "('Bread', 'Butter')\n",
      "('Bread', 'Milk')\n",
      "('Bread', 'Jam')\n",
      "('Butter', 'Milk')\n",
      "('Butter', 'Jam')\n",
      "('Milk', 'Jam')\n"
     ]
    }
   ],
   "source": [
    "ys =[]\n",
    "for idx, val in enumerate(test):\n",
    "    for yis in xs:\n",
    "        for yi in yis:\n",
    "            y = set(yi).symmetric_difference(val.items)\n",
    "            ys.append(y)\n",
    "       "
   ]
  },
  {
   "cell_type": "code",
   "execution_count": 116,
   "id": "a89106c4-488e-4f27-a6d4-e1f7457894dd",
   "metadata": {},
   "outputs": [
    {
     "data": {
      "text/plain": [
       "[{'Jam'},\n",
       " {'Milk'},\n",
       " {'Butter'},\n",
       " {'Bread'},\n",
       " {'Jam', 'Milk'},\n",
       " {'Butter', 'Jam'},\n",
       " {'Butter', 'Milk'},\n",
       " {'Bread', 'Jam'},\n",
       " {'Bread', 'Milk'},\n",
       " {'Bread', 'Butter'}]"
      ]
     },
     "execution_count": 116,
     "metadata": {},
     "output_type": "execute_result"
    }
   ],
   "source": [
    "ys"
   ]
  },
  {
   "cell_type": "code",
   "execution_count": 85,
   "id": "8ca85146-99f1-4778-84cd-618af0397040",
   "metadata": {},
   "outputs": [],
   "source": [
    "rs = []\n",
    "i = 0 \n",
    "for idx, item in  enumerate(xs):\n",
    "    for idxs, itemx in enumerate(item):   \n",
    "        rs.append(Rules([OrderedSet(itemx)], [OrderedSet(ys[i])]))\n",
    "        i+=1\n",
    "        "
   ]
  },
  {
   "cell_type": "code",
   "execution_count": 86,
   "id": "fa8d013c-e16d-4986-a833-c4c22b2ba9bc",
   "metadata": {},
   "outputs": [
    {
     "name": "stdout",
     "output_type": "stream",
     "text": [
      "[OrderedSet(['Bread', 'Butter'])]\n",
      "[OrderedSet(['Milk'])]\n",
      "[OrderedSet(['Bread', 'Milk'])]\n",
      "[OrderedSet(['Butter'])]\n",
      "[OrderedSet(['Butter', 'Milk'])]\n",
      "[OrderedSet(['Bread'])]\n",
      "[OrderedSet(['Bread', 'Jam'])]\n",
      "[OrderedSet(['Milk'])]\n",
      "[OrderedSet(['Bread', 'Milk'])]\n",
      "[OrderedSet(['Jam'])]\n",
      "[OrderedSet(['Jam', 'Milk'])]\n",
      "[OrderedSet(['Bread'])]\n"
     ]
    }
   ],
   "source": [
    "for r in rs:\n",
    "    print(r.x)\n",
    "    print(r.y)"
   ]
  },
  {
   "cell_type": "code",
   "execution_count": null,
   "id": "c95a9b5f-8563-40ef-a876-4f92ebc8ec49",
   "metadata": {},
   "outputs": [],
   "source": []
  },
  {
   "cell_type": "code",
   "execution_count": 87,
   "id": "d95abbcc-56fc-4375-a47f-86de107bdcbd",
   "metadata": {},
   "outputs": [
    {
     "data": {
      "text/plain": [
       "[[OrderedSet(['Bread', 'Butter'])]]"
      ]
     },
     "execution_count": 87,
     "metadata": {},
     "output_type": "execute_result"
    }
   ],
   "source": [
    "[(rs[0].x)]"
   ]
  },
  {
   "cell_type": "code",
   "execution_count": 88,
   "id": "4788335f-a077-4433-9815-2dd8d1992b56",
   "metadata": {},
   "outputs": [],
   "source": [
    "t =support_count(list(rs[0].y))"
   ]
  },
  {
   "cell_type": "code",
   "execution_count": 89,
   "id": "f089c01f-3a11-4ef6-aa2a-ab3b87b58bfc",
   "metadata": {},
   "outputs": [
    {
     "name": "stdout",
     "output_type": "stream",
     "text": [
      "[OrderedSet(['Bread', 'Butter'])]\n"
     ]
    },
    {
     "data": {
      "text/plain": [
       "OrderedSet(['Milk', 'Bread', 'Butter'])"
      ]
     },
     "execution_count": 89,
     "metadata": {},
     "output_type": "execute_result"
    }
   ],
   "source": [
    "print(rs[0].x)\n",
    "rs[0].y[0] | rs[0].x[0]"
   ]
  },
  {
   "cell_type": "code",
   "execution_count": 90,
   "id": "49c00654-3dca-4454-9114-3f2d64869005",
   "metadata": {},
   "outputs": [
    {
     "name": "stdout",
     "output_type": "stream",
     "text": [
      "[OrderedSet(['Milk'])] -> [OrderedSet(['Bread', 'Butter'])]0.3333333333333333\n",
      "[OrderedSet(['Butter'])] -> [OrderedSet(['Bread', 'Milk'])]1.0\n",
      "[OrderedSet(['Bread'])] -> [OrderedSet(['Butter', 'Milk'])]0.2857142857142857\n",
      "[OrderedSet(['Milk'])] -> [OrderedSet(['Bread', 'Jam'])]0.3333333333333333\n",
      "[OrderedSet(['Jam'])] -> [OrderedSet(['Bread', 'Milk'])]0.3333333333333333\n",
      "[OrderedSet(['Bread'])] -> [OrderedSet(['Jam', 'Milk'])]0.2857142857142857\n"
     ]
    }
   ],
   "source": [
    "for r in rs:\n",
    "    # print(str(r.x) + \" -> \" + str(r.y) + str(r.confidence_x()))\n",
    "    print(str(r.y) + \" -> \" + str(r.x) + str(r.confidence_y()))\n",
    "    # print(r.confidence_y())"
   ]
  },
  {
   "cell_type": "code",
   "execution_count": null,
   "id": "c98492f6-b33a-45da-abd9-ea2938838196",
   "metadata": {},
   "outputs": [],
   "source": []
  },
  {
   "cell_type": "code",
   "execution_count": null,
   "id": "0b643b74-f9e8-4e22-bc67-3a88f3171b49",
   "metadata": {},
   "outputs": [],
   "source": []
  }
 ],
 "metadata": {
  "kernelspec": {
   "display_name": "Python 3 (ipykernel)",
   "language": "python",
   "name": "python3"
  },
  "language_info": {
   "codemirror_mode": {
    "name": "ipython",
    "version": 3
   },
   "file_extension": ".py",
   "mimetype": "text/x-python",
   "name": "python",
   "nbconvert_exporter": "python",
   "pygments_lexer": "ipython3",
   "version": "3.8.10"
  }
 },
 "nbformat": 4,
 "nbformat_minor": 5
}
